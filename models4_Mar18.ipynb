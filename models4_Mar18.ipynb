{
 "cells": [
  {
   "cell_type": "code",
   "execution_count": 1,
   "metadata": {
    "ExecuteTime": {
     "end_time": "2019-03-19T05:26:42.144464Z",
     "start_time": "2019-03-19T05:26:40.589179Z"
    }
   },
   "outputs": [],
   "source": [
    "import pandas as pd\n",
    "from sklearn.model_selection import train_test_split\n",
    "from xgboost import XGBClassifier\n",
    "from sklearn.linear_model import LogisticRegression\n",
    "from sklearn.neighbors import KNeighborsClassifier\n",
    "from sklearn.naive_bayes import GaussianNB \n",
    "from sklearn.ensemble import RandomForestClassifier\n",
    "from mlxtend.classifier import StackingClassifier\n",
    "import numpy as np\n",
    "from sklearn.model_selection import GridSearchCV\n",
    "from sklearn.metrics import roc_curve\n",
    "from sklearn.metrics import auc"
   ]
  },
  {
   "cell_type": "code",
   "execution_count": 62,
   "metadata": {
    "ExecuteTime": {
     "end_time": "2019-03-19T06:35:00.867779Z",
     "start_time": "2019-03-19T06:34:59.751488Z"
    },
    "scrolled": true
   },
   "outputs": [],
   "source": [
    "attr = pd.read_csv('/Users/Reagan/Downloads/features_attr3.csv')\n",
    "attr = attr.fillna(0)\n",
    "attr = attr.set_index('user_id')\n",
    "# gattr = attr.groupby('user_id').mean()\n",
    "# gattr = gattr.drop('Unnamed: 0', axis=1)"
   ]
  },
  {
   "cell_type": "code",
   "execution_count": 63,
   "metadata": {
    "ExecuteTime": {
     "end_time": "2019-03-19T06:35:06.408696Z",
     "start_time": "2019-03-19T06:35:02.012145Z"
    }
   },
   "outputs": [],
   "source": [
    "events = pd.read_csv('features_events.csv').set_index('user_id')\n",
    "events2 = pd.read_csv('features_events2.csv').set_index('user_id')\n",
    "sessions = pd.read_csv('features_session_training6.0.csv')\n",
    "sessions['user_id'] = sessions['id_']\n",
    "sessions = sessions.drop(['id_'], axis=1).set_index('user_id')\n",
    "labels14 = pd.read_csv('labels14.csv').set_index('user_id')\n",
    "labels7 = pd.read_csv('labels7.csv').set_index('user_id')"
   ]
  },
  {
   "cell_type": "code",
   "execution_count": 26,
   "metadata": {
    "ExecuteTime": {
     "end_time": "2019-03-19T05:54:32.284089Z",
     "start_time": "2019-03-19T05:54:31.737477Z"
    }
   },
   "outputs": [],
   "source": [
    "corr_attr = labels7.join(attr).corr()"
   ]
  },
  {
   "cell_type": "code",
   "execution_count": 19,
   "metadata": {
    "ExecuteTime": {
     "end_time": "2019-03-19T05:39:15.367054Z",
     "start_time": "2019-03-19T05:38:35.446390Z"
    }
   },
   "outputs": [],
   "source": [
    "users = pd.read_csv('user_dict.csv', header=None)\n",
    "inv_user_dict = {row[1][1]:row[1][0] for row in users.iterrows()}"
   ]
  },
  {
   "cell_type": "code",
   "execution_count": 64,
   "metadata": {
    "ExecuteTime": {
     "end_time": "2019-03-19T06:35:18.420372Z",
     "start_time": "2019-03-19T06:35:15.240454Z"
    }
   },
   "outputs": [],
   "source": [
    "data14 = labels14.join(events).join(events2).join(sessions).join(attr)\n",
    "data7 = labels7.join(events).join(events2).join(sessions).join(attr)\n",
    "y14 = data14['label']\n",
    "X14 = data14.drop('label', axis=1)\n",
    "y7 = data7['label']\n",
    "X7 = data7.drop('label', axis=1)"
   ]
  },
  {
   "cell_type": "code",
   "execution_count": 65,
   "metadata": {
    "ExecuteTime": {
     "end_time": "2019-03-19T06:35:20.891441Z",
     "start_time": "2019-03-19T06:35:19.433376Z"
    }
   },
   "outputs": [],
   "source": [
    "X14_train, X14_test, y14_train, y14_test = train_test_split(X14, y14, test_size=0.2, random_state=42)\n",
    "X7_train, X7_test, y7_train, y7_test = train_test_split(X7, y7, test_size=0.2, random_state=42)"
   ]
  },
  {
   "cell_type": "code",
   "execution_count": 66,
   "metadata": {
    "ExecuteTime": {
     "end_time": "2019-03-19T06:35:21.669608Z",
     "start_time": "2019-03-19T06:35:20.894083Z"
    }
   },
   "outputs": [],
   "source": [
    "X14_train=X14_train.fillna(0) \n",
    "X14_test=X14_test.fillna(0)\n",
    "y14_train=y14_train.fillna(0)\n",
    "y14_test=y14_test.fillna(0) \n",
    "X7_train=X7_train.fillna(0) \n",
    "X7_test=X7_test.fillna(0)\n",
    "y7_train=y7_train.fillna(0)\n",
    "y7_test=y7_test.fillna(0) "
   ]
  },
  {
   "cell_type": "markdown",
   "metadata": {},
   "source": [
    "# model  - Random Forest"
   ]
  },
  {
   "cell_type": "code",
   "execution_count": 73,
   "metadata": {
    "ExecuteTime": {
     "end_time": "2019-03-19T06:39:42.769678Z",
     "start_time": "2019-03-19T06:39:42.765617Z"
    }
   },
   "outputs": [],
   "source": [
    "# {'max_depth': 10, 'min_samples_leaf': 1, 'n_estimators': 50}"
   ]
  },
  {
   "cell_type": "code",
   "execution_count": 76,
   "metadata": {
    "ExecuteTime": {
     "end_time": "2019-03-19T06:41:05.963971Z",
     "start_time": "2019-03-19T06:40:41.780952Z"
    }
   },
   "outputs": [
    {
     "data": {
      "text/plain": [
       "RandomForestClassifier(bootstrap=True, class_weight=None, criterion='gini',\n",
       "            max_depth=10, max_features='auto', max_leaf_nodes=None,\n",
       "            min_impurity_decrease=0.0, min_impurity_split=None,\n",
       "            min_samples_leaf=1, min_samples_split=2,\n",
       "            min_weight_fraction_leaf=0.0, n_estimators=50, n_jobs=None,\n",
       "            oob_score=False, random_state=None, verbose=0,\n",
       "            warm_start=False)"
      ]
     },
     "execution_count": 76,
     "metadata": {},
     "output_type": "execute_result"
    }
   ],
   "source": [
    "rf7 = RandomForestClassifier(max_depth=10, min_samples_leaf=1, n_estimators=50)\n",
    "rf7.fit(X7_train, y7_train)"
   ]
  },
  {
   "cell_type": "code",
   "execution_count": 77,
   "metadata": {
    "ExecuteTime": {
     "end_time": "2019-03-19T06:41:06.484201Z",
     "start_time": "2019-03-19T06:41:05.966232Z"
    }
   },
   "outputs": [
    {
     "data": {
      "text/plain": [
       "0.9743121514265147"
      ]
     },
     "execution_count": 77,
     "metadata": {},
     "output_type": "execute_result"
    }
   ],
   "source": [
    "false_positive_rate7, true_positive_rate7, thresholds7 = roc_curve(y7_test, rf7.predict_proba(X7_test)[:,1])\n",
    "auc(false_positive_rate7, true_positive_rate7)"
   ]
  },
  {
   "cell_type": "code",
   "execution_count": 78,
   "metadata": {
    "ExecuteTime": {
     "end_time": "2019-03-19T06:42:08.696063Z",
     "start_time": "2019-03-19T06:41:43.192575Z"
    }
   },
   "outputs": [
    {
     "data": {
      "text/plain": [
       "RandomForestClassifier(bootstrap=True, class_weight=None, criterion='gini',\n",
       "            max_depth=10, max_features='auto', max_leaf_nodes=None,\n",
       "            min_impurity_decrease=0.0, min_impurity_split=None,\n",
       "            min_samples_leaf=1, min_samples_split=2,\n",
       "            min_weight_fraction_leaf=0.0, n_estimators=50, n_jobs=None,\n",
       "            oob_score=False, random_state=None, verbose=0,\n",
       "            warm_start=False)"
      ]
     },
     "execution_count": 78,
     "metadata": {},
     "output_type": "execute_result"
    }
   ],
   "source": [
    "rf14 = RandomForestClassifier(max_depth=10, min_samples_leaf=1, n_estimators=50)\n",
    "rf14.fit(X14_train, y14_train)"
   ]
  },
  {
   "cell_type": "code",
   "execution_count": 79,
   "metadata": {
    "ExecuteTime": {
     "end_time": "2019-03-19T06:42:09.218170Z",
     "start_time": "2019-03-19T06:42:08.700335Z"
    }
   },
   "outputs": [
    {
     "data": {
      "text/plain": [
       "0.9674241364269447"
      ]
     },
     "execution_count": 79,
     "metadata": {},
     "output_type": "execute_result"
    }
   ],
   "source": [
    "false_positive_rate7, true_positive_rate7, thresholds7 = roc_curve(y14_test, rf14.predict_proba(X14_test)[:,1])\n",
    "auc(false_positive_rate7, true_positive_rate7)"
   ]
  },
  {
   "cell_type": "code",
   "execution_count": null,
   "metadata": {},
   "outputs": [],
   "source": [
    "# feature importance"
   ]
  },
  {
   "cell_type": "code",
   "execution_count": 80,
   "metadata": {
    "ExecuteTime": {
     "end_time": "2019-03-19T06:50:29.428229Z",
     "start_time": "2019-03-19T06:50:29.374031Z"
    }
   },
   "outputs": [],
   "source": [
    "feature_importances7 = pd.DataFrame(rf7.feature_importances_,\n",
    "                                   index = X7_train.columns,\n",
    "                                    columns=['importance']).sort_values('importance',ascending=False)  \n",
    "feature_importances14 = pd.DataFrame(rf14.feature_importances_,\n",
    "                                   index = X14_train.columns,\n",
    "                                    columns=['importance']).sort_values('importance',ascending=False)  "
   ]
  },
  {
   "cell_type": "code",
   "execution_count": 115,
   "metadata": {
    "ExecuteTime": {
     "end_time": "2019-03-19T07:05:33.944550Z",
     "start_time": "2019-03-19T07:05:33.935123Z"
    }
   },
   "outputs": [
    {
     "data": {
      "text/html": [
       "<div>\n",
       "<style scoped>\n",
       "    .dataframe tbody tr th:only-of-type {\n",
       "        vertical-align: middle;\n",
       "    }\n",
       "\n",
       "    .dataframe tbody tr th {\n",
       "        vertical-align: top;\n",
       "    }\n",
       "\n",
       "    .dataframe thead th {\n",
       "        text-align: right;\n",
       "    }\n",
       "</style>\n",
       "<table border=\"1\" class=\"dataframe\">\n",
       "  <thead>\n",
       "    <tr style=\"text-align: right;\">\n",
       "      <th></th>\n",
       "      <th>importance</th>\n",
       "    </tr>\n",
       "  </thead>\n",
       "  <tbody>\n",
       "    <tr>\n",
       "      <th>purchase_count_last_week</th>\n",
       "      <td>0.170781</td>\n",
       "    </tr>\n",
       "    <tr>\n",
       "      <th>e7_count_1_week</th>\n",
       "      <td>0.079123</td>\n",
       "    </tr>\n",
       "    <tr>\n",
       "      <th>purchase_sum_2_weeks</th>\n",
       "      <td>0.069298</td>\n",
       "    </tr>\n",
       "    <tr>\n",
       "      <th>purchase_count_total</th>\n",
       "      <td>0.058594</td>\n",
       "    </tr>\n",
       "    <tr>\n",
       "      <th>purchase_sum_last_week</th>\n",
       "      <td>0.054964</td>\n",
       "    </tr>\n",
       "    <tr>\n",
       "      <th>purchase_count_2_weeks</th>\n",
       "      <td>0.046689</td>\n",
       "    </tr>\n",
       "    <tr>\n",
       "      <th>e6_count_1_week</th>\n",
       "      <td>0.035899</td>\n",
       "    </tr>\n",
       "    <tr>\n",
       "      <th>attr_1</th>\n",
       "      <td>0.035733</td>\n",
       "    </tr>\n",
       "    <tr>\n",
       "      <th>purchase_sum_total</th>\n",
       "      <td>0.031850</td>\n",
       "    </tr>\n",
       "    <tr>\n",
       "      <th>attr_13</th>\n",
       "      <td>0.031586</td>\n",
       "    </tr>\n",
       "    <tr>\n",
       "      <th>e40_count_1_week</th>\n",
       "      <td>0.026795</td>\n",
       "    </tr>\n",
       "    <tr>\n",
       "      <th>e7_count_2_week</th>\n",
       "      <td>0.022853</td>\n",
       "    </tr>\n",
       "    <tr>\n",
       "      <th>e4_count_1_week</th>\n",
       "      <td>0.019542</td>\n",
       "    </tr>\n",
       "    <tr>\n",
       "      <th>e5_count_1_week</th>\n",
       "      <td>0.018672</td>\n",
       "    </tr>\n",
       "    <tr>\n",
       "      <th>cr_from_now</th>\n",
       "      <td>0.016779</td>\n",
       "    </tr>\n",
       "    <tr>\n",
       "      <th>last2week_ss_duration</th>\n",
       "      <td>0.016136</td>\n",
       "    </tr>\n",
       "    <tr>\n",
       "      <th>weekday_count</th>\n",
       "      <td>0.015923</td>\n",
       "    </tr>\n",
       "    <tr>\n",
       "      <th>attr_14</th>\n",
       "      <td>0.015359</td>\n",
       "    </tr>\n",
       "    <tr>\n",
       "      <th>attr_5</th>\n",
       "      <td>0.013344</td>\n",
       "    </tr>\n",
       "    <tr>\n",
       "      <th>total_count</th>\n",
       "      <td>0.013073</td>\n",
       "    </tr>\n",
       "  </tbody>\n",
       "</table>\n",
       "</div>"
      ],
      "text/plain": [
       "                          importance\n",
       "purchase_count_last_week    0.170781\n",
       "e7_count_1_week             0.079123\n",
       "purchase_sum_2_weeks        0.069298\n",
       "purchase_count_total        0.058594\n",
       "purchase_sum_last_week      0.054964\n",
       "purchase_count_2_weeks      0.046689\n",
       "e6_count_1_week             0.035899\n",
       "attr_1                      0.035733\n",
       "purchase_sum_total          0.031850\n",
       "attr_13                     0.031586\n",
       "e40_count_1_week            0.026795\n",
       "e7_count_2_week             0.022853\n",
       "e4_count_1_week             0.019542\n",
       "e5_count_1_week             0.018672\n",
       "cr_from_now                 0.016779\n",
       "last2week_ss_duration       0.016136\n",
       "weekday_count               0.015923\n",
       "attr_14                     0.015359\n",
       "attr_5                      0.013344\n",
       "total_count                 0.013073"
      ]
     },
     "execution_count": 115,
     "metadata": {},
     "output_type": "execute_result"
    }
   ],
   "source": [
    "feature_importances14[:20]   # also need to run feature_importances7[:12]"
   ]
  },
  {
   "cell_type": "code",
   "execution_count": 116,
   "metadata": {
    "ExecuteTime": {
     "end_time": "2019-03-19T07:05:37.011388Z",
     "start_time": "2019-03-19T07:05:36.998802Z"
    }
   },
   "outputs": [
    {
     "data": {
      "text/html": [
       "<div>\n",
       "<style scoped>\n",
       "    .dataframe tbody tr th:only-of-type {\n",
       "        vertical-align: middle;\n",
       "    }\n",
       "\n",
       "    .dataframe tbody tr th {\n",
       "        vertical-align: top;\n",
       "    }\n",
       "\n",
       "    .dataframe thead th {\n",
       "        text-align: right;\n",
       "    }\n",
       "</style>\n",
       "<table border=\"1\" class=\"dataframe\">\n",
       "  <thead>\n",
       "    <tr style=\"text-align: right;\">\n",
       "      <th></th>\n",
       "      <th>importance</th>\n",
       "    </tr>\n",
       "  </thead>\n",
       "  <tbody>\n",
       "    <tr>\n",
       "      <th>purchase_sum_last_week</th>\n",
       "      <td>0.124271</td>\n",
       "    </tr>\n",
       "    <tr>\n",
       "      <th>purchase_count_last_week</th>\n",
       "      <td>0.115942</td>\n",
       "    </tr>\n",
       "    <tr>\n",
       "      <th>purchase_sum_2_weeks</th>\n",
       "      <td>0.080814</td>\n",
       "    </tr>\n",
       "    <tr>\n",
       "      <th>purchase_count_total</th>\n",
       "      <td>0.053810</td>\n",
       "    </tr>\n",
       "    <tr>\n",
       "      <th>e7_count_2_week</th>\n",
       "      <td>0.042323</td>\n",
       "    </tr>\n",
       "    <tr>\n",
       "      <th>attr_1</th>\n",
       "      <td>0.039420</td>\n",
       "    </tr>\n",
       "    <tr>\n",
       "      <th>e7_count_1_week</th>\n",
       "      <td>0.037972</td>\n",
       "    </tr>\n",
       "    <tr>\n",
       "      <th>e5_count_1_week</th>\n",
       "      <td>0.034576</td>\n",
       "    </tr>\n",
       "    <tr>\n",
       "      <th>purchase_count_2_weeks</th>\n",
       "      <td>0.033134</td>\n",
       "    </tr>\n",
       "    <tr>\n",
       "      <th>e4_count_1_week</th>\n",
       "      <td>0.030743</td>\n",
       "    </tr>\n",
       "    <tr>\n",
       "      <th>purchase_sum_total</th>\n",
       "      <td>0.025546</td>\n",
       "    </tr>\n",
       "    <tr>\n",
       "      <th>attr_13</th>\n",
       "      <td>0.020430</td>\n",
       "    </tr>\n",
       "    <tr>\n",
       "      <th>cr_from_now</th>\n",
       "      <td>0.019443</td>\n",
       "    </tr>\n",
       "    <tr>\n",
       "      <th>e40_count_1_week</th>\n",
       "      <td>0.017722</td>\n",
       "    </tr>\n",
       "    <tr>\n",
       "      <th>weekday_count</th>\n",
       "      <td>0.017195</td>\n",
       "    </tr>\n",
       "    <tr>\n",
       "      <th>e6_count_1_week</th>\n",
       "      <td>0.016386</td>\n",
       "    </tr>\n",
       "    <tr>\n",
       "      <th>e41_count_1_week</th>\n",
       "      <td>0.016254</td>\n",
       "    </tr>\n",
       "    <tr>\n",
       "      <th>last2week_ss_duration</th>\n",
       "      <td>0.016010</td>\n",
       "    </tr>\n",
       "    <tr>\n",
       "      <th>e3_count_1_week</th>\n",
       "      <td>0.014720</td>\n",
       "    </tr>\n",
       "    <tr>\n",
       "      <th>attr_7</th>\n",
       "      <td>0.014438</td>\n",
       "    </tr>\n",
       "  </tbody>\n",
       "</table>\n",
       "</div>"
      ],
      "text/plain": [
       "                          importance\n",
       "purchase_sum_last_week      0.124271\n",
       "purchase_count_last_week    0.115942\n",
       "purchase_sum_2_weeks        0.080814\n",
       "purchase_count_total        0.053810\n",
       "e7_count_2_week             0.042323\n",
       "attr_1                      0.039420\n",
       "e7_count_1_week             0.037972\n",
       "e5_count_1_week             0.034576\n",
       "purchase_count_2_weeks      0.033134\n",
       "e4_count_1_week             0.030743\n",
       "purchase_sum_total          0.025546\n",
       "attr_13                     0.020430\n",
       "cr_from_now                 0.019443\n",
       "e40_count_1_week            0.017722\n",
       "weekday_count               0.017195\n",
       "e6_count_1_week             0.016386\n",
       "e41_count_1_week            0.016254\n",
       "last2week_ss_duration       0.016010\n",
       "e3_count_1_week             0.014720\n",
       "attr_7                      0.014438"
      ]
     },
     "execution_count": 116,
     "metadata": {},
     "output_type": "execute_result"
    }
   ],
   "source": [
    "feature_importances7[:20]"
   ]
  },
  {
   "cell_type": "code",
   "execution_count": 117,
   "metadata": {
    "ExecuteTime": {
     "end_time": "2019-03-19T07:05:39.487370Z",
     "start_time": "2019-03-19T07:05:39.479856Z"
    }
   },
   "outputs": [
    {
     "name": "stdout",
     "output_type": "stream",
     "text": [
      "17\n",
      "23\n"
     ]
    }
   ],
   "source": [
    "def intersection(lst1, lst2): \n",
    "    lst3 = [value for value in lst1 if value in lst2] \n",
    "    return lst3 \n",
    "def union(a, b):\n",
    "    \"\"\" return the union of two lists \"\"\"\n",
    "    return list(set(a) | set(b))\n",
    "print(len(intersection(feature_importances7[:20].index, feature_importances14[:20].index)))\n",
    "print(len(union(feature_importances7[:20].index, feature_importances14[:20].index)))"
   ]
  },
  {
   "cell_type": "code",
   "execution_count": 118,
   "metadata": {
    "ExecuteTime": {
     "end_time": "2019-03-19T07:05:40.516470Z",
     "start_time": "2019-03-19T07:05:40.510425Z"
    }
   },
   "outputs": [
    {
     "data": {
      "text/plain": [
       "['e7_count_2_week',\n",
       " 'purchase_count_2_weeks',\n",
       " 'attr_14',\n",
       " 'total_count',\n",
       " 'purchase_sum_2_weeks',\n",
       " 'e4_count_1_week',\n",
       " 'cr_from_now',\n",
       " 'e41_count_1_week',\n",
       " 'e3_count_1_week',\n",
       " 'attr_7',\n",
       " 'last2week_ss_duration',\n",
       " 'e40_count_1_week',\n",
       " 'e6_count_1_week',\n",
       " 'purchase_sum_last_week',\n",
       " 'e7_count_1_week',\n",
       " 'purchase_count_last_week',\n",
       " 'e5_count_1_week',\n",
       " 'attr_5',\n",
       " 'weekday_count',\n",
       " 'purchase_count_total',\n",
       " 'purchase_sum_total',\n",
       " 'attr_13',\n",
       " 'attr_1']"
      ]
     },
     "execution_count": 118,
     "metadata": {},
     "output_type": "execute_result"
    }
   ],
   "source": [
    "union(feature_importances7[:20].index, feature_importances14[:20].index)"
   ]
  },
  {
   "cell_type": "markdown",
   "metadata": {
    "ExecuteTime": {
     "end_time": "2019-02-26T08:33:22.280990Z",
     "start_time": "2019-02-26T08:33:22.277645Z"
    }
   },
   "source": [
    "### when I get feature importance"
   ]
  },
  {
   "cell_type": "code",
   "execution_count": 119,
   "metadata": {
    "ExecuteTime": {
     "end_time": "2019-03-19T07:05:42.350486Z",
     "start_time": "2019-03-19T07:05:42.201533Z"
    }
   },
   "outputs": [],
   "source": [
    "X7_b = X7[['e7_count_2_week','purchase_count_2_weeks','attr_14','total_count','purchase_sum_2_weeks','e4_count_1_week','cr_from_now',\n",
    " 'e41_count_1_week','e3_count_1_week','attr_7','last2week_ss_duration','e40_count_1_week','e6_count_1_week','purchase_sum_last_week',\n",
    " 'e7_count_1_week','purchase_count_last_week','e5_count_1_week','attr_5','weekday_count','purchase_count_total','purchase_sum_total',\n",
    " 'attr_13','attr_1']]\n",
    "X14_b = X14[['e7_count_2_week','purchase_count_2_weeks','attr_14','total_count','purchase_sum_2_weeks','e4_count_1_week','cr_from_now',\n",
    " 'e41_count_1_week','e3_count_1_week','attr_7','last2week_ss_duration','e40_count_1_week','e6_count_1_week','purchase_sum_last_week',\n",
    " 'e7_count_1_week','purchase_count_last_week','e5_count_1_week','attr_5','weekday_count','purchase_count_total','purchase_sum_total',\n",
    " 'attr_13','attr_1']]"
   ]
  },
  {
   "cell_type": "code",
   "execution_count": 120,
   "metadata": {
    "ExecuteTime": {
     "end_time": "2019-03-19T07:05:43.032918Z",
     "start_time": "2019-03-19T07:05:42.619585Z"
    }
   },
   "outputs": [],
   "source": [
    "X14_b_train, X14_b_test, y14_b_train, y14_b_test = train_test_split(X14_b, y14, test_size=0.2, random_state=42)\n",
    "X7_b_train, X7_b_test, y7_b_train, y7_b_test = train_test_split(X7_b, y7, test_size=0.2, random_state=42)"
   ]
  },
  {
   "cell_type": "code",
   "execution_count": 121,
   "metadata": {
    "ExecuteTime": {
     "end_time": "2019-03-19T07:05:43.196168Z",
     "start_time": "2019-03-19T07:05:43.035578Z"
    }
   },
   "outputs": [],
   "source": [
    "X14_b_train=X14_b_train.fillna(0) \n",
    "X14_b_test=X14_b_test.fillna(0)\n",
    "y14_b_train=y14_b_train.fillna(0)\n",
    "y14_b_test=y14_b_test.fillna(0) \n",
    "X7_b_train=X7_b_train.fillna(0) \n",
    "X7_b_test=X7_b_test.fillna(0)\n",
    "y7_b_train=y7_b_train.fillna(0)\n",
    "y7_b_test=y7_b_test.fillna(0) "
   ]
  },
  {
   "cell_type": "code",
   "execution_count": 124,
   "metadata": {
    "ExecuteTime": {
     "end_time": "2019-03-19T07:06:00.833171Z",
     "start_time": "2019-03-19T07:05:53.678628Z"
    }
   },
   "outputs": [
    {
     "data": {
      "text/plain": [
       "RandomForestClassifier(bootstrap=True, class_weight=None, criterion='gini',\n",
       "            max_depth=10, max_features='auto', max_leaf_nodes=None,\n",
       "            min_impurity_decrease=0.0, min_impurity_split=None,\n",
       "            min_samples_leaf=1, min_samples_split=2,\n",
       "            min_weight_fraction_leaf=0.0, n_estimators=20, n_jobs=None,\n",
       "            oob_score=False, random_state=None, verbose=0,\n",
       "            warm_start=False)"
      ]
     },
     "execution_count": 124,
     "metadata": {},
     "output_type": "execute_result"
    }
   ],
   "source": [
    "# 7 days\n",
    "rf7_b = RandomForestClassifier(max_depth=10, min_samples_leaf=1, n_estimators=20)\n",
    "rf7_b.fit(X7_b_train, y7_b_train)"
   ]
  },
  {
   "cell_type": "code",
   "execution_count": 125,
   "metadata": {
    "ExecuteTime": {
     "end_time": "2019-03-19T07:06:01.023572Z",
     "start_time": "2019-03-19T07:06:00.836743Z"
    }
   },
   "outputs": [
    {
     "data": {
      "text/plain": [
       "0.9750094799881919"
      ]
     },
     "execution_count": 125,
     "metadata": {},
     "output_type": "execute_result"
    }
   ],
   "source": [
    "false_positive_rate7, true_positive_rate7, thresholds7 = roc_curve(y7_b_test, rf7_b.predict_proba(X7_b_test)[:,1])\n",
    "auc(false_positive_rate7, true_positive_rate7)"
   ]
  },
  {
   "cell_type": "code",
   "execution_count": 133,
   "metadata": {
    "ExecuteTime": {
     "end_time": "2019-03-19T07:11:27.737165Z",
     "start_time": "2019-03-19T07:11:20.711212Z"
    }
   },
   "outputs": [
    {
     "data": {
      "text/plain": [
       "RandomForestClassifier(bootstrap=True, class_weight=None, criterion='gini',\n",
       "            max_depth=10, max_features='auto', max_leaf_nodes=None,\n",
       "            min_impurity_decrease=0.0, min_impurity_split=None,\n",
       "            min_samples_leaf=1, min_samples_split=2,\n",
       "            min_weight_fraction_leaf=0.0, n_estimators=20, n_jobs=None,\n",
       "            oob_score=False, random_state=None, verbose=0,\n",
       "            warm_start=False)"
      ]
     },
     "execution_count": 133,
     "metadata": {},
     "output_type": "execute_result"
    }
   ],
   "source": [
    "# 14 days\n",
    "rf14_b = RandomForestClassifier(max_depth=10, min_samples_leaf=1, n_estimators=20)\n",
    "rf14_b.fit(X14_b_train, y14_b_train)"
   ]
  },
  {
   "cell_type": "code",
   "execution_count": 134,
   "metadata": {
    "ExecuteTime": {
     "end_time": "2019-03-19T07:11:27.935822Z",
     "start_time": "2019-03-19T07:11:27.739805Z"
    }
   },
   "outputs": [
    {
     "data": {
      "text/plain": [
       "0.9670819912749714"
      ]
     },
     "execution_count": 134,
     "metadata": {},
     "output_type": "execute_result"
    }
   ],
   "source": [
    "false_positive_rate7, true_positive_rate7, thresholds7 = roc_curve(y14_b_test, rf14_b.predict_proba(X14_b_test)[:,1])\n",
    "auc(false_positive_rate7, true_positive_rate7)"
   ]
  },
  {
   "cell_type": "markdown",
   "metadata": {},
   "source": [
    "# model - XGBoost"
   ]
  },
  {
   "cell_type": "code",
   "execution_count": 142,
   "metadata": {
    "ExecuteTime": {
     "end_time": "2019-03-19T07:23:16.071024Z",
     "start_time": "2019-03-19T07:21:19.281925Z"
    }
   },
   "outputs": [
    {
     "data": {
      "text/plain": [
       "XGBClassifier(base_score=0.5, booster='gbtree', colsample_bylevel=1,\n",
       "       colsample_bytree=1, gamma=0, learning_rate=0.1, max_delta_step=0,\n",
       "       max_depth=7, min_child_weight=1, missing=None, n_estimators=100,\n",
       "       n_jobs=1, nthread=None, objective='binary:logistic', random_state=0,\n",
       "       reg_alpha=0, reg_lambda=1, scale_pos_weight=1, seed=None,\n",
       "       silent=True, subsample=1)"
      ]
     },
     "execution_count": 142,
     "metadata": {},
     "output_type": "execute_result"
    }
   ],
   "source": [
    "# 7 days\n",
    "max_depth = 7\n",
    "xgb7_b = XGBClassifier(max_depth=max_depth)\n",
    "xgb7_b.fit(X7_b_train, y7_b_train)"
   ]
  },
  {
   "cell_type": "code",
   "execution_count": 143,
   "metadata": {
    "ExecuteTime": {
     "end_time": "2019-03-19T07:23:16.760768Z",
     "start_time": "2019-03-19T07:23:16.077740Z"
    }
   },
   "outputs": [
    {
     "data": {
      "text/plain": [
       "0.9758576968098629"
      ]
     },
     "execution_count": 143,
     "metadata": {},
     "output_type": "execute_result"
    }
   ],
   "source": [
    "false_positive_rate7, true_positive_rate7, thresholds7 = roc_curve(y7_b_test, xgb7_b.predict_proba(X7_b_test)[:,1])\n",
    "auc(false_positive_rate7, true_positive_rate7)"
   ]
  },
  {
   "cell_type": "code",
   "execution_count": 144,
   "metadata": {
    "ExecuteTime": {
     "end_time": "2019-03-19T07:25:12.661573Z",
     "start_time": "2019-03-19T07:23:16.763252Z"
    }
   },
   "outputs": [
    {
     "data": {
      "text/plain": [
       "XGBClassifier(base_score=0.5, booster='gbtree', colsample_bylevel=1,\n",
       "       colsample_bytree=1, gamma=0, learning_rate=0.1, max_delta_step=0,\n",
       "       max_depth=7, min_child_weight=1, missing=None, n_estimators=100,\n",
       "       n_jobs=1, nthread=None, objective='binary:logistic', random_state=0,\n",
       "       reg_alpha=0, reg_lambda=1, scale_pos_weight=1, seed=None,\n",
       "       silent=True, subsample=1)"
      ]
     },
     "execution_count": 144,
     "metadata": {},
     "output_type": "execute_result"
    }
   ],
   "source": [
    "# 14 day model\n",
    "max_depth = 7\n",
    "xgb14_b = XGBClassifier(max_depth=max_depth)\n",
    "xgb14_b.fit(X14_b_train, y14_b_train)"
   ]
  },
  {
   "cell_type": "code",
   "execution_count": 145,
   "metadata": {
    "ExecuteTime": {
     "end_time": "2019-03-19T07:25:13.346929Z",
     "start_time": "2019-03-19T07:25:12.671477Z"
    }
   },
   "outputs": [
    {
     "data": {
      "text/plain": [
       "0.9683546365847155"
      ]
     },
     "execution_count": 145,
     "metadata": {},
     "output_type": "execute_result"
    }
   ],
   "source": [
    "false_positive_rate7, true_positive_rate7, thresholds7 = roc_curve(y14_b_test, xgb14_b.predict_proba(X14_b_test)[:,1])\n",
    "auc(false_positive_rate7, true_positive_rate7)"
   ]
  },
  {
   "cell_type": "markdown",
   "metadata": {},
   "source": [
    "# model - Stacking"
   ]
  },
  {
   "cell_type": "code",
   "execution_count": 146,
   "metadata": {
    "ExecuteTime": {
     "end_time": "2019-03-19T07:25:13.352124Z",
     "start_time": "2019-03-19T07:25:13.349477Z"
    }
   },
   "outputs": [],
   "source": [
    "# base models: rf, lr, xgb\n",
    "# meta model: lr"
   ]
  },
  {
   "cell_type": "code",
   "execution_count": null,
   "metadata": {},
   "outputs": [],
   "source": [
    "# 7 days"
   ]
  },
  {
   "cell_type": "code",
   "execution_count": 147,
   "metadata": {
    "ExecuteTime": {
     "end_time": "2019-03-19T07:25:37.760198Z",
     "start_time": "2019-03-19T07:25:34.517962Z"
    }
   },
   "outputs": [],
   "source": [
    "train_pred_xgb7 = pd.DataFrame(xgb7_b.predict_proba(X7_b_train)[:,1])\n",
    "test_pred_xgb7 = pd.DataFrame(xgb7_b.predict_proba(X7_b_test)[:,1])"
   ]
  },
  {
   "cell_type": "code",
   "execution_count": 148,
   "metadata": {
    "ExecuteTime": {
     "end_time": "2019-03-19T07:26:01.101855Z",
     "start_time": "2019-03-19T07:26:00.187530Z"
    }
   },
   "outputs": [],
   "source": [
    "train_pred_rf7 = pd.DataFrame(rf7_b.predict_proba(X7_b_train)[:,1])\n",
    "test_pred_rf7 = pd.DataFrame(rf7_b.predict_proba(X7_b_test)[:,1])"
   ]
  },
  {
   "cell_type": "code",
   "execution_count": 149,
   "metadata": {
    "ExecuteTime": {
     "end_time": "2019-03-19T07:26:10.883204Z",
     "start_time": "2019-03-19T07:26:10.852612Z"
    }
   },
   "outputs": [],
   "source": [
    "df7 = pd.concat([train_pred_xgb7, train_pred_rf7], axis=1)\n",
    "df_test7 = pd.concat([test_pred_xgb7, test_pred_rf7], axis=1)  # used for validation "
   ]
  },
  {
   "cell_type": "code",
   "execution_count": 150,
   "metadata": {
    "ExecuteTime": {
     "end_time": "2019-03-19T07:26:51.756098Z",
     "start_time": "2019-03-19T07:26:51.116306Z"
    }
   },
   "outputs": [
    {
     "name": "stderr",
     "output_type": "stream",
     "text": [
      "/anaconda3/envs/MSDS694/lib/python3.6/site-packages/sklearn/linear_model/logistic.py:433: FutureWarning: Default solver will be changed to 'lbfgs' in 0.22. Specify a solver to silence this warning.\n",
      "  FutureWarning)\n"
     ]
    },
    {
     "data": {
      "text/plain": [
       "0.976246199390785"
      ]
     },
     "execution_count": 150,
     "metadata": {},
     "output_type": "execute_result"
    }
   ],
   "source": [
    "meta_model_7 = LogisticRegression()\n",
    "meta_model_7.fit(df7,y7_b_train)\n",
    "false_positive_rate, true_positive_rate, thresholds = roc_curve(y7_b_test, meta_model_7.predict_proba(df_test7)[:,1])\n",
    "auc(false_positive_rate, true_positive_rate)"
   ]
  },
  {
   "cell_type": "code",
   "execution_count": 151,
   "metadata": {
    "ExecuteTime": {
     "end_time": "2019-03-19T07:27:09.896307Z",
     "start_time": "2019-03-19T07:27:09.887304Z"
    }
   },
   "outputs": [],
   "source": [
    "# 14 days"
   ]
  },
  {
   "cell_type": "code",
   "execution_count": 152,
   "metadata": {
    "ExecuteTime": {
     "end_time": "2019-03-19T07:27:56.479074Z",
     "start_time": "2019-03-19T07:27:53.024737Z"
    }
   },
   "outputs": [],
   "source": [
    "train_pred_xgb14 = pd.DataFrame(xgb14_b.predict_proba(X14_b_train)[:,1])\n",
    "test_pred_xgb14 = pd.DataFrame(xgb14_b.predict_proba(X14_b_test)[:,1])"
   ]
  },
  {
   "cell_type": "code",
   "execution_count": 153,
   "metadata": {
    "ExecuteTime": {
     "end_time": "2019-03-19T07:29:49.847220Z",
     "start_time": "2019-03-19T07:29:48.946803Z"
    }
   },
   "outputs": [],
   "source": [
    "train_pred_rf14 = pd.DataFrame(rf14_b.predict_proba(X14_b_train)[:,1])\n",
    "test_pred_rf14 = pd.DataFrame(rf14_b.predict_proba(X14_b_test)[:,1])"
   ]
  },
  {
   "cell_type": "code",
   "execution_count": 154,
   "metadata": {
    "ExecuteTime": {
     "end_time": "2019-03-19T07:31:03.287230Z",
     "start_time": "2019-03-19T07:31:03.276630Z"
    }
   },
   "outputs": [],
   "source": [
    "df14 = pd.concat([train_pred_xgb14, train_pred_rf14], axis=1)\n",
    "df_test14 = pd.concat([test_pred_xgb14, test_pred_rf14], axis=1)"
   ]
  },
  {
   "cell_type": "code",
   "execution_count": 155,
   "metadata": {
    "ExecuteTime": {
     "end_time": "2019-03-19T07:33:27.601141Z",
     "start_time": "2019-03-19T07:33:27.048996Z"
    }
   },
   "outputs": [
    {
     "name": "stderr",
     "output_type": "stream",
     "text": [
      "/anaconda3/envs/MSDS694/lib/python3.6/site-packages/sklearn/linear_model/logistic.py:433: FutureWarning: Default solver will be changed to 'lbfgs' in 0.22. Specify a solver to silence this warning.\n",
      "  FutureWarning)\n"
     ]
    },
    {
     "data": {
      "text/plain": [
       "0.9685742185668588"
      ]
     },
     "execution_count": 155,
     "metadata": {},
     "output_type": "execute_result"
    }
   ],
   "source": [
    "meta_model_14 = LogisticRegression()\n",
    "meta_model_14.fit(df14,y7_b_train)\n",
    "false_positive_rate, true_positive_rate, thresholds = roc_curve(y14_b_test, meta_model_14.predict_proba(df_test14)[:,1])\n",
    "auc(false_positive_rate, true_positive_rate)"
   ]
  },
  {
   "cell_type": "code",
   "execution_count": null,
   "metadata": {},
   "outputs": [],
   "source": []
  },
  {
   "cell_type": "markdown",
   "metadata": {},
   "source": [
    "# Predict on full data for kaggle submission"
   ]
  },
  {
   "cell_type": "code",
   "execution_count": 156,
   "metadata": {
    "ExecuteTime": {
     "end_time": "2019-03-19T08:11:52.577247Z",
     "start_time": "2019-03-19T08:11:51.407120Z"
    }
   },
   "outputs": [],
   "source": [
    "attr_full = pd.read_csv('/Users/Reagan/Downloads/features_attr3_full.csv')\n",
    "attr_full = attr_full.fillna(0)\n",
    "attr_full = attr_full.set_index('user_id')"
   ]
  },
  {
   "cell_type": "code",
   "execution_count": 157,
   "metadata": {
    "ExecuteTime": {
     "end_time": "2019-03-19T08:12:42.720544Z",
     "start_time": "2019-03-19T08:12:36.961258Z"
    }
   },
   "outputs": [],
   "source": [
    "events_full = pd.read_csv('features_events_full.csv').set_index('user_id')\n",
    "events2_full = pd.read_csv('features_events2_full.csv').set_index('user_id')\n",
    "\n",
    "sessions_full = pd.read_csv('features_session_full6.0.csv')\n",
    "sessions_full['user_id'] = sessions_full['id_']\n",
    "sessions_full = sessions_full.drop(['id_'], axis=1)\\\n",
    "                .drop_duplicates()\\\n",
    "                .groupby('user_id', as_index=False)\\\n",
    "                .mean()\\\n",
    "                .set_index('user_id')"
   ]
  },
  {
   "cell_type": "code",
   "execution_count": 188,
   "metadata": {
    "ExecuteTime": {
     "end_time": "2019-03-19T08:21:45.444019Z",
     "start_time": "2019-03-19T08:21:44.523541Z"
    }
   },
   "outputs": [],
   "source": [
    "X_full = events_full.join(sessions_full, how='left').join(events2_full).join(attr_full)"
   ]
  },
  {
   "cell_type": "code",
   "execution_count": 189,
   "metadata": {
    "ExecuteTime": {
     "end_time": "2019-03-19T08:21:46.892377Z",
     "start_time": "2019-03-19T08:21:46.219390Z"
    }
   },
   "outputs": [],
   "source": [
    "X_full= X_full[['e7_count_2_week','purchase_count_2_weeks','attr_14','total_count','purchase_sum_2_weeks','e4_count_1_week','cr_from_now',\n",
    " 'e41_count_1_week','e3_count_1_week','attr_7','last2week_ss_duration','e40_count_1_week','e6_count_1_week','purchase_sum_last_week',\n",
    " 'e7_count_1_week','purchase_count_last_week','e5_count_1_week','attr_5','weekday_count','purchase_count_total','purchase_sum_total',\n",
    " 'attr_13','attr_1']]"
   ]
  },
  {
   "cell_type": "code",
   "execution_count": 190,
   "metadata": {
    "ExecuteTime": {
     "end_time": "2019-03-19T08:21:47.541889Z",
     "start_time": "2019-03-19T08:21:47.440479Z"
    }
   },
   "outputs": [],
   "source": [
    "X_full=X_full.fillna(0) "
   ]
  },
  {
   "cell_type": "code",
   "execution_count": 181,
   "metadata": {
    "ExecuteTime": {
     "end_time": "2019-03-19T08:20:31.929551Z",
     "start_time": "2019-03-19T08:20:26.292611Z"
    }
   },
   "outputs": [],
   "source": [
    "y7_pred = xgb7_b.predict_proba(X_full)\n",
    "y14_pred = xgb14_b.predict_proba(X_full)"
   ]
  },
  {
   "cell_type": "markdown",
   "metadata": {},
   "source": [
    "# -----------------------------------------------------------------------------------------"
   ]
  },
  {
   "cell_type": "markdown",
   "metadata": {},
   "source": [
    "## for stacking model"
   ]
  },
  {
   "cell_type": "code",
   "execution_count": 191,
   "metadata": {
    "ExecuteTime": {
     "end_time": "2019-03-19T08:25:10.289083Z",
     "start_time": "2019-03-19T08:25:02.694235Z"
    }
   },
   "outputs": [],
   "source": [
    "# create X_full for stacking\n",
    "full7_rf = pd.DataFrame(rf7_b.predict_proba(X_full)[:,1])\n",
    "full7_xgb = pd.DataFrame(xgb7_b.predict_proba(X_full)[:,1])\n",
    "full7 = pd.concat([full7_rf, full7_xgb], axis=1)\n",
    "\n",
    "full14_rf = pd.DataFrame(rf14_b.predict_proba(X_full)[:,1])\n",
    "full14_xgb = pd.DataFrame(xgb14_b.predict_proba(X_full)[:,1])\n",
    "full14 = pd.concat([full14_rf, full14_xgb], axis=1)"
   ]
  },
  {
   "cell_type": "code",
   "execution_count": 192,
   "metadata": {
    "ExecuteTime": {
     "end_time": "2019-03-19T08:26:10.928458Z",
     "start_time": "2019-03-19T08:26:10.784862Z"
    }
   },
   "outputs": [],
   "source": [
    "y14_pred = meta_model_14.predict_proba(full7)\n",
    "y7_pred = meta_model_7.predict_proba(full14)"
   ]
  },
  {
   "cell_type": "markdown",
   "metadata": {},
   "source": [
    "# ------------------------------------------------------------------------------------------"
   ]
  },
  {
   "cell_type": "code",
   "execution_count": 193,
   "metadata": {
    "ExecuteTime": {
     "end_time": "2019-03-19T08:26:15.614737Z",
     "start_time": "2019-03-19T08:26:15.574239Z"
    }
   },
   "outputs": [],
   "source": [
    "predictions = pd.DataFrame({'user_id_hash':X_full.index,\n",
    "                            'user_purchase_binary_7_days':y7_pred[:,1],\n",
    "                            'user_purchase_binary_14_days':y14_pred[:,1]})"
   ]
  },
  {
   "cell_type": "code",
   "execution_count": null,
   "metadata": {},
   "outputs": [],
   "source": [
    "predictions['user_id_hash'] = predictions['user_id_hash'].map(inv_user_dict)\n"
   ]
  },
  {
   "cell_type": "code",
   "execution_count": null,
   "metadata": {},
   "outputs": [],
   "source": [
    "samp_submission = pd.read_csv('sample_submission_2.csv')\n",
    "samp_submission = samp_submission.rename(index=str, columns={\"user_purchase_binary_7_days\": \"samp7\",\n",
    "                                                             \"user_purchase_binary_14_days\": \"samp14\"})\n"
   ]
  },
  {
   "cell_type": "code",
   "execution_count": 196,
   "metadata": {
    "ExecuteTime": {
     "end_time": "2019-03-19T08:26:20.514308Z",
     "start_time": "2019-03-19T08:26:20.122110Z"
    }
   },
   "outputs": [],
   "source": [
    "submission = pd.merge(samp_submission, predictions, how='left', on='user_id_hash')\n",
    "submission = submission.drop(columns=['samp7', 'samp14'])\n"
   ]
  },
  {
   "cell_type": "code",
   "execution_count": 197,
   "metadata": {
    "ExecuteTime": {
     "end_time": "2019-02-23T19:15:33.132113Z",
     "start_time": "2019-02-23T19:15:33.128920Z"
    }
   },
   "outputs": [],
   "source": [
    "# save to csv"
   ]
  },
  {
   "cell_type": "code",
   "execution_count": 198,
   "metadata": {
    "ExecuteTime": {
     "end_time": "2019-03-19T08:26:29.243227Z",
     "start_time": "2019-03-19T08:26:27.065811Z"
    }
   },
   "outputs": [],
   "source": [
    "submission.to_csv(path_or_buf='mar18_stacking.csv', index=False)"
   ]
  },
  {
   "cell_type": "code",
   "execution_count": null,
   "metadata": {},
   "outputs": [],
   "source": []
  }
 ],
 "metadata": {
  "kernelspec": {
   "display_name": "Python 3",
   "language": "python",
   "name": "python3"
  }
 },
 "nbformat": 4,
 "nbformat_minor": 2
}
