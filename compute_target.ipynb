{
 "cells": [
  {
   "cell_type": "markdown",
   "metadata": {},
   "source": [
    "# Compute targets for whether or not a user completed a purchase"
   ]
  },
  {
   "cell_type": "code",
   "execution_count": null,
   "metadata": {},
   "outputs": [],
   "source": [
    "from pyspark import SparkContext, SparkConf\n",
    "from pyspark.sql import SparkSession\n",
    "import pandas as pd\n",
    "from pyspark.sql.functions import UserDefinedFunction\n",
    "from pyspark.sql.types import IntegerType\n",
    "from datetime import datetime\n"
   ]
  },
  {
   "cell_type": "code",
   "execution_count": 17,
   "metadata": {
    "ExecuteTime": {
     "end_time": "2019-02-17T00:34:16.646913Z",
     "start_time": "2019-02-17T00:34:16.644347Z"
    }
   },
   "outputs": [],
   "source": [
    "sc = SparkContext.getOrCreate()\n",
    "ss = SparkSession.builder.getOrCreate()"
   ]
  },
  {
   "cell_type": "code",
   "execution_count": 35,
   "metadata": {
    "ExecuteTime": {
     "end_time": "2019-02-17T00:49:42.814368Z",
     "start_time": "2019-02-17T00:48:46.921605Z"
    }
   },
   "outputs": [],
   "source": [
    "# Load user dictionary which maps user_id_hashing to unique integers\n",
    "users = pd.read_csv('data/user_dict.csv', header=None)\n",
    "user_dict = {row[1][0]:int(row[1][1]) for row in users.iterrows()}"
   ]
  },
  {
   "cell_type": "code",
   "execution_count": 4,
   "metadata": {
    "ExecuteTime": {
     "end_time": "2019-02-17T00:17:44.564922Z",
     "start_time": "2019-02-17T00:17:44.556248Z"
    }
   },
   "outputs": [],
   "source": [
    "name = 'user_id_hash'\n",
    "fn = UserDefinedFunction(lambda x: user_dict[x], IntegerType())"
   ]
  },
  {
   "cell_type": "code",
   "execution_count": null,
   "metadata": {},
   "outputs": [],
   "source": [
    "df = ss.read.csv('data/events.csv', header=True, inferSchema=True)\n"
   ]
  },
  {
   "cell_type": "code",
   "execution_count": null,
   "metadata": {},
   "outputs": [],
   "source": [
    "# Convert user_id_hash to user_id\n",
    "purchases = df.withColumn('user_id', fn(df.user_id_hash))\\\n",
    "            .drop('user_id_hash', 'app_id', 'session_id')\\\n",
    "            .filter(\"event == 8\")\\\n",
    "            .toPandas()\n",
    "\n",
    "# Convert time feature\n",
    "purchases['datetime'] = purchases['event_timestamp'].apply(lambda x:datetime.fromtimestamp(x/1000))"
   ]
  },
  {
   "cell_type": "code",
   "execution_count": 11,
   "metadata": {
    "ExecuteTime": {
     "end_time": "2019-02-17T00:22:49.391966Z",
     "start_time": "2019-02-17T00:22:49.376721Z"
    }
   },
   "outputs": [],
   "source": [
    "# Get purchases for 7 day and 14 day time periods \n",
    "purchases14 = purchases[(purchases['datetime'] >= '2018-12-01')\n",
    "                        & (purchases['datetime'] <= '2018-12-14')\n",
    "                        & (purchases['event_value'] != 0)]\n",
    "purchases7 = purchases[(purchases['datetime'] >= '2018-12-01')\n",
    "                        & (purchases['datetime'] <= '2018-12-07')\n",
    "                        & (purchases['event_value'] != 0)]"
   ]
  },
  {
   "cell_type": "code",
   "execution_count": 12,
   "metadata": {
    "ExecuteTime": {
     "end_time": "2019-02-17T00:32:09.881127Z",
     "start_time": "2019-02-17T00:32:09.875391Z"
    }
   },
   "outputs": [
    {
     "data": {
      "text/plain": [
       "array([390699, 151528, 142719, 540810, 147408, 377990, 462529, 203937,\n",
       "       471260, 422223])"
      ]
     },
     "execution_count": 12,
     "metadata": {},
     "output_type": "execute_result"
    }
   ],
   "source": [
    "# Get unique users for purchases\n",
    "labels14 = purchases14.user_id.unique()\n",
    "labels7 = purchases7.user_id.unique()"
   ]
  },
  {
   "cell_type": "code",
   "execution_count": 49,
   "metadata": {
    "ExecuteTime": {
     "end_time": "2019-02-17T01:15:53.370549Z",
     "start_time": "2019-02-17T01:15:47.197401Z"
    }
   },
   "outputs": [],
   "source": [
    "labels14_dict = {user:1 if user in labels14 else 0 for user in user_dict.values()}\n",
    "labels7_dict = {user:1 if user in labels7 else 0 for user in user_dict.values()}"
   ]
  },
  {
   "cell_type": "code",
   "execution_count": null,
   "metadata": {},
   "outputs": [],
   "source": [
    "# Create df of labels \n",
    "labels14_df = pd.DataFrame(labels14_dict.items(), columns=['user_id', 'label'])\n",
    "labels7_df = pd.DataFrame(labels7_dict.items(), columns=['user_id', 'label'])"
   ]
  },
  {
   "cell_type": "markdown",
   "metadata": {},
   "source": [
    "## Save df to csv"
   ]
  },
  {
   "cell_type": "code",
   "execution_count": 52,
   "metadata": {
    "ExecuteTime": {
     "end_time": "2019-02-17T01:16:25.593486Z",
     "start_time": "2019-02-17T01:16:22.631284Z"
    }
   },
   "outputs": [],
   "source": [
    "labels14_df.to_csv(path_or_buf='labels14.csv', index=False)\n",
    "labels7_df.to_csv(path_or_buf='labels7.csv', index=False)"
   ]
  }
 ],
 "metadata": {
  "kernelspec": {
   "display_name": "Python 3",
   "language": "python",
   "name": "python3"
  }
 },
 "nbformat": 4,
 "nbformat_minor": 2
}
